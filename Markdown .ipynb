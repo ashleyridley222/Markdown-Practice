{
 "cells": [
  {
   "cell_type": "code",
   "execution_count": 1,
   "id": "60e6ede9",
   "metadata": {},
   "outputs": [
    {
     "name": "stdout",
     "output_type": "stream",
     "text": [
      "6\n"
     ]
    }
   ],
   "source": [
    "a=3\n",
    "b=a*2\n",
    "print(b)\n"
   ]
  },
  {
   "cell_type": "code",
   "execution_count": 2,
   "id": "169be643",
   "metadata": {},
   "outputs": [
    {
     "name": "stdout",
     "output_type": "stream",
     "text": [
      "20\n"
     ]
    }
   ],
   "source": [
    "c=5\n",
    "d=c*4\n",
    "print(d)"
   ]
  },
  {
   "cell_type": "code",
   "execution_count": 3,
   "id": "ace841c7",
   "metadata": {},
   "outputs": [
    {
     "name": "stdout",
     "output_type": "stream",
     "text": [
      "Hello class, welocme to Cs150\n"
     ]
    }
   ],
   "source": [
    "print(\"Hello class, welocme to Cs150\")"
   ]
  },
  {
   "cell_type": "markdown",
   "id": "4d7f6edd",
   "metadata": {},
   "source": [
    "# Heading1 "
   ]
  },
  {
   "cell_type": "markdown",
   "id": "2fe4579f",
   "metadata": {},
   "source": [
    "# Heading2"
   ]
  },
  {
   "cell_type": "markdown",
   "id": "6324248e",
   "metadata": {},
   "source": [
    "# Heading3"
   ]
  },
  {
   "cell_type": "markdown",
   "id": "9e237290",
   "metadata": {},
   "source": [
    "# Heading 4"
   ]
  },
  {
   "cell_type": "markdown",
   "id": "499ace05",
   "metadata": {},
   "source": [
    "# Heading 5"
   ]
  },
  {
   "cell_type": "markdown",
   "id": "9d2e970a",
   "metadata": {},
   "source": [
    "# Heading 6"
   ]
  },
  {
   "cell_type": "markdown",
   "id": "9781cb17",
   "metadata": {},
   "source": [
    "> hello class, how are you doing today "
   ]
  },
  {
   "cell_type": "markdown",
   "id": "16a6e48f",
   "metadata": {},
   "source": [
    "* this is a bullet list\n",
    "1. cake\n",
    "3. 123456"
   ]
  },
  {
   "cell_type": "markdown",
   "id": "7de74d70",
   "metadata": {},
   "source": [
    "**i like butterflies**"
   ]
  },
  {
   "cell_type": "markdown",
   "id": "b01f1fef",
   "metadata": {},
   "source": [
    "* i like butterflies*"
   ]
  },
  {
   "cell_type": "markdown",
   "id": "78e9a3c7",
   "metadata": {},
   "source": [
    "*i like butterflies*"
   ]
  },
  {
   "cell_type": "markdown",
   "id": "f346eb88",
   "metadata": {},
   "source": [
    "`Here is a code for printing statements!`"
   ]
  },
  {
   "cell_type": "markdown",
   "id": "c8fff1ff",
   "metadata": {},
   "source": [
    "<a href=\"https://www.google.com/?client=safari\">this link</a>"
   ]
  },
  {
   "cell_type": "markdown",
   "id": "ace5b79c",
   "metadata": {},
   "source": [
    "![Python Logo](https://news.emory.edu/stories/2022/03/esc_monarch_parasite_plague_25-03-2022/thumbs/story_main.jpg)"
   ]
  },
  {
   "cell_type": "code",
   "execution_count": null,
   "id": "04d923f4",
   "metadata": {},
   "outputs": [],
   "source": []
  },
  {
   "cell_type": "code",
   "execution_count": null,
   "id": "712deb03",
   "metadata": {},
   "outputs": [],
   "source": []
  },
  {
   "cell_type": "code",
   "execution_count": null,
   "id": "61a808c4",
   "metadata": {},
   "outputs": [],
   "source": []
  }
 ],
 "metadata": {
  "kernelspec": {
   "display_name": "Python 3 (ipykernel)",
   "language": "python",
   "name": "python3"
  },
  "language_info": {
   "codemirror_mode": {
    "name": "ipython",
    "version": 3
   },
   "file_extension": ".py",
   "mimetype": "text/x-python",
   "name": "python",
   "nbconvert_exporter": "python",
   "pygments_lexer": "ipython3",
   "version": "3.9.12"
  }
 },
 "nbformat": 4,
 "nbformat_minor": 5
}
